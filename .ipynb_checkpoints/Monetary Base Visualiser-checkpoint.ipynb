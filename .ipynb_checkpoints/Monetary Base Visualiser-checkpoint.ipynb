{
 "cells": [
  {
   "cell_type": "code",
   "execution_count": null,
   "metadata": {},
   "outputs": [],
   "source": [
    "Retrieving data from HKMA api"
   ]
  },
  {
   "cell_type": "code",
   "execution_count": 1,
   "metadata": {
    "scrolled": false
   },
   "outputs": [],
   "source": [
    "import urllib.request\n",
    "import json\n",
    "import ssl\n",
    "context = ssl._create_unverified_context()\n",
    "\n",
    "# Monetary Base Data released by hkma monthly\n",
    "url = 'https://api.hkma.gov.hk/public/market-data-and-statistics/monthly-statistical-bulletin/monetary-operation/monetary-base-endperiod'\n",
    "\n",
    "records = []\n",
    "\n",
    "# retrieve data from hkma api, 100 entries per call, untill every data are retrieveed\n",
    "offset = 0\n",
    "while True:\n",
    "    with urllib.request.urlopen(url+\"?offset=\"+str(offset), context=context) as req:\n",
    "        data = json.loads(req.read().decode())\n",
    "        records += data['result']['records']\n",
    "    if data['result']['datasize'] <= 0:\n",
    "        break\n",
    "    else:\n",
    "        offset += 100"
   ]
  },
  {
   "cell_type": "code",
   "execution_count": null,
   "metadata": {},
   "outputs": [],
   "source": [
    "record"
   ]
  },
  {
   "cell_type": "code",
   "execution_count": null,
   "metadata": {},
   "outputs": [],
   "source": [
    "print(\"helloworld\")"
   ]
  }
 ],
 "metadata": {
  "kernelspec": {
   "display_name": "Python 3",
   "language": "python",
   "name": "python3"
  },
  "language_info": {
   "codemirror_mode": {
    "name": "ipython",
    "version": 3
   },
   "file_extension": ".py",
   "mimetype": "text/x-python",
   "name": "python",
   "nbconvert_exporter": "python",
   "pygments_lexer": "ipython3",
   "version": "3.6.4"
  }
 },
 "nbformat": 4,
 "nbformat_minor": 4
}
